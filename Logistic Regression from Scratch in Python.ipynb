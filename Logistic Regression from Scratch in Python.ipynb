{
 "cells": [
  {
   "cell_type": "code",
   "execution_count": 5,
   "id": "6bc3190b",
   "metadata": {},
   "outputs": [],
   "source": [
    "import numpy as np"
   ]
  },
  {
   "cell_type": "code",
   "execution_count": 4,
   "id": "61756d51",
   "metadata": {},
   "outputs": [],
   "source": [
    "class LogisticRegresssion():\n",
    "    \n",
    "    # declaring learning rate and number of iterations (hyperparameters)\n",
    "    def __init__(self, learning_rate, no_of_itreations):\n",
    "        \n",
    "        self.learning_rate = learning_rate\n",
    "        self.no_of_itreations = no_of_itreations\n",
    "        \n",
    "    \n",
    "    # fit function to train the model with dataset\n",
    "    def fit(self, features, target):\n",
    "        \n",
    "        #number of data points in the dataset (number of rows) ----> m\n",
    "        #number of input features in the dataset (number of columns) ----> n\n",
    "        self.m, self.n = features.shape\n",
    "        \n",
    "        #initiating weights and bias values\n",
    "        self.w = np.zeros(self.n)\n",
    "        self.b = 0\n",
    "        self.features = features\n",
    "        self.target = target\n",
    "        \n",
    "        \n",
    "        #implementating the gradient descent for optimization\n",
    "        \n",
    "        for i in range(self.no_of_itreations):\n",
    "            self.update_weights()\n",
    "        \n",
    "        \n",
    "    \n",
    "    def update_weights(self):\n",
    "        \n",
    "        #predicted_target (Y_hat) (Sigmoid Function)\n",
    "        estimated_target = 1/(1 + np.exp(-(self.features.dot(self.w) + self.b )))\n",
    "        \n",
    "        \n",
    "        # calculating the deriviates\n",
    "        \n",
    "        dw = (1/self.m) * np.dot(self.features.T, (estimated_target - self.target))\n",
    "        db = (1/self.m) * np.sum(estimated_target - self.target)\n",
    "        \n",
    "        #updating the weights and bias using gradient descent \n",
    "        self.w = self.w - learning_rate*dw\n",
    "        self.b = self.b - learning_rate*db\n",
    "        \n",
    "    \n",
    "    def predict(self, ):\n",
    "        predicted_target = 1/(1 + np.exp(-(features.dot(self.w) + self.b )))\n",
    "        predicted_target = np.where(predicted_target > 0.5, 1, 0)\n",
    "        return predicted_target"
   ]
  },
  {
   "cell_type": "code",
   "execution_count": null,
   "id": "d5f2b60a",
   "metadata": {},
   "outputs": [],
   "source": []
  }
 ],
 "metadata": {
  "kernelspec": {
   "display_name": "Python 3",
   "language": "python",
   "name": "python3"
  },
  "language_info": {
   "codemirror_mode": {
    "name": "ipython",
    "version": 3
   },
   "file_extension": ".py",
   "mimetype": "text/x-python",
   "name": "python",
   "nbconvert_exporter": "python",
   "pygments_lexer": "ipython3",
   "version": "3.8.8"
  }
 },
 "nbformat": 4,
 "nbformat_minor": 5
}
