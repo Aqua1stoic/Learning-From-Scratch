{
 "cells": [
  {
   "cell_type": "code",
   "execution_count": 1,
   "id": "ddbbb76a",
   "metadata": {},
   "outputs": [],
   "source": [
    "#bringing in only two dependencies\n",
    "import numpy as np\n",
    "import matplotlib.pyplot as plt"
   ]
  },
  {
   "cell_type": "code",
   "execution_count": 2,
   "id": "8db2a142",
   "metadata": {},
   "outputs": [],
   "source": [
    "#get the dataset using numpy\n",
    "dataset = np.loadtxt(\"real_estate_price_size.csv\", delimiter=\",\", dtype=np.float64)"
   ]
  },
  {
   "cell_type": "code",
   "execution_count": 3,
   "id": "e8a8fcc8",
   "metadata": {},
   "outputs": [],
   "source": [
    "#seperate the X and the Y and reshape Y\n",
    "X = dataset[:, 0]\n",
    "Y = dataset[:, 1]"
   ]
  },
  {
   "cell_type": "code",
   "execution_count": 4,
   "id": "d209b177",
   "metadata": {},
   "outputs": [],
   "source": [
    "Y = dataset[:, 1].reshape(Y.size, 1)\n",
    "X = np.vstack((np.ones((X.size, )), X)).T"
   ]
  },
  {
   "cell_type": "code",
   "execution_count": 5,
   "id": "0030494f",
   "metadata": {},
   "outputs": [
    {
     "name": "stdout",
     "output_type": "stream",
     "text": [
      "(100, 2)\n",
      "(100, 1)\n"
     ]
    }
   ],
   "source": [
    "print(X.shape)\n",
    "print(Y.shape)"
   ]
  },
  {
   "cell_type": "code",
   "execution_count": 6,
   "id": "7a70ff7a",
   "metadata": {},
   "outputs": [
    {
     "data": {
      "image/png": "[encoded data removed]",
      "text/plain": [
       "<Figure size 432x288 with 1 Axes>"
      ]
     },
     "metadata": {
      "needs_background": "light"
     },
     "output_type": "display_data"
    }
   ],
   "source": [
    "plt.scatter(X[:, 1], Y)\n",
    "plt.show()"
   ]
  },
  {
   "cell_type": "code",
   "execution_count": 7,
   "id": "084dee0d",
   "metadata": {},
   "outputs": [],
   "source": [
    "def model(X, Y, Learning_Rate, Iteration):\n",
    "    m = Y.size\n",
    "    theta = np.zeros((2,1))\n",
    "    for i in range(Iteration):\n",
    "        y_pred = np.dot(X, theta)\n",
    "        cost = (1/(2*m))*np.sum(np.square(y_pred-Y))\n",
    "        \n",
    "        d_theta =(1/m)*np.dot(X.T, y_pred - Y)\n",
    "        theta = theta - Learning_Rate * d_theta\n",
    "        \n",
    "    return theta"
   ]
  },
  {
   "cell_type": "code",
   "execution_count": 10,
   "id": "108dc777",
   "metadata": {},
   "outputs": [],
   "source": [
    "Iteration = 1000\n",
    "Learning_Rate = 0.00000005\n",
    "theta = model(X, Y, Learning_Rate, Iteration = Iteration)"
   ]
  },
  {
   "cell_type": "code",
   "execution_count": 11,
   "id": "f0338c09",
   "metadata": {},
   "outputs": [
    {
     "data": {
      "text/plain": [
       "array([4.61538345])"
      ]
     },
     "execution_count": 11,
     "metadata": {},
     "output_type": "execute_result"
    }
   ],
   "source": [
    "np.dot([1,1567], theta)"
   ]
  },
  {
   "cell_type": "code",
   "execution_count": 12,
   "id": "81277e80",
   "metadata": {},
   "outputs": [
    {
     "name": "stdout",
     "output_type": "stream",
     "text": [
      "Our model predicts the price of house with 1547 sq. ft. area as : $ 4.56\n",
      "Our model predicts the price of house with 1896 sq. ft. area as : $ 5.58\n",
      "Our model predicts the price of house with 1934 sq. ft. area as : $ 5.7\n",
      "Our model predicts the price of house with 2800 sq. ft. area as : $ 8.25\n",
      "Our model predicts the price of house with 3400 sq. ft. area as : $ 10.01\n",
      "Our model predicts the price of house with 5000 sq. ft. area as : $ 14.73\n"
     ]
    }
   ],
   "source": [
    "new_houses = np.array([[1, 1547], [1, 1896], [1, 1934], [1, 2800], [1, 3400], [1, 5000]])\n",
    "for house in new_houses:\n",
    "    print(\"Our model predicts the price of house with\",house[1], \"sq. ft. area as : $\", round(np.dot(house, theta)[0], 2))"
   ]
  },
  {
   "cell_type": "code",
   "execution_count": null,
   "id": "d2f5b769",
   "metadata": {},
   "outputs": [],
   "source": []
  }
 ],
 "metadata": {
  "kernelspec": {
   "display_name": "Python 3",
   "language": "python",
   "name": "python3"
  },
  "language_info": {
   "codemirror_mode": {
    "name": "ipython",
    "version": 3
   },
   "file_extension": ".py",
   "mimetype": "text/x-python",
   "name": "python",
   "nbconvert_exporter": "python",
   "pygments_lexer": "ipython3",
   "version": "3.8.8"
  }
 },
 "nbformat": 4,
 "nbformat_minor": 5
}
