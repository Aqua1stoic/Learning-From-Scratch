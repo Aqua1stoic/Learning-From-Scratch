{
 "cells": [
  {
   "cell_type": "code",
   "execution_count": 1,
   "id": "ec01dce2",
   "metadata": {},
   "outputs": [],
   "source": [
    "#import our dependencies\n",
    "#NumPy for our matrices opeartions, Pandas for our dataset and MatplotLib for graphs\n",
    "import numpy as np\n",
    "import pandas as pd\n",
    "import matplotlib.pyplot as plt"
   ]
  },
  {
   "cell_type": "code",
   "execution_count": 2,
   "id": "d82c57e5",
   "metadata": {},
   "outputs": [],
   "source": [
    "#Now we load our dataset which has already been divide into two parts.\n",
    "\n",
    "train_dataset = pd.read_csv(\"Train_Dataset_for_MLR.txt\")\n",
    "test_dataset = pd.read_csv('Test_Dataset_for_MLR.txt')"
   ]
  },
  {
   "cell_type": "code",
   "execution_count": 3,
   "id": "964570d6",
   "metadata": {
    "scrolled": true
   },
   "outputs": [
    {
     "data": {
      "text/html": [
       "<div>\n",
       "<style scoped>\n",
       "    .dataframe tbody tr th:only-of-type {\n",
       "        vertical-align: middle;\n",
       "    }\n",
       "\n",
       "    .dataframe tbody tr th {\n",
       "        vertical-align: top;\n",
       "    }\n",
       "\n",
       "    .dataframe thead th {\n",
       "        text-align: right;\n",
       "    }\n",
       "</style>\n",
       "<table border=\"1\" class=\"dataframe\">\n",
       "  <thead>\n",
       "    <tr style=\"text-align: right;\">\n",
       "      <th></th>\n",
       "      <th>Unnamed: 0</th>\n",
       "      <th>Id</th>\n",
       "      <th>MSSubClass</th>\n",
       "      <th>MSZoning</th>\n",
       "      <th>LotArea</th>\n",
       "      <th>Street</th>\n",
       "      <th>LotShape</th>\n",
       "      <th>LandContour</th>\n",
       "      <th>Utilities</th>\n",
       "      <th>LotConfig</th>\n",
       "      <th>...</th>\n",
       "      <th>EnclosedPorch</th>\n",
       "      <th>3SsnPorch</th>\n",
       "      <th>ScreenPorch</th>\n",
       "      <th>PoolArea</th>\n",
       "      <th>MiscVal</th>\n",
       "      <th>MoSold</th>\n",
       "      <th>YrSold</th>\n",
       "      <th>SaleType</th>\n",
       "      <th>SaleCondition</th>\n",
       "      <th>SalePrice</th>\n",
       "    </tr>\n",
       "  </thead>\n",
       "  <tbody>\n",
       "    <tr>\n",
       "      <th>0</th>\n",
       "      <td>0</td>\n",
       "      <td>1</td>\n",
       "      <td>60</td>\n",
       "      <td>3</td>\n",
       "      <td>8450</td>\n",
       "      <td>1</td>\n",
       "      <td>3</td>\n",
       "      <td>3</td>\n",
       "      <td>0</td>\n",
       "      <td>4</td>\n",
       "      <td>...</td>\n",
       "      <td>0</td>\n",
       "      <td>0</td>\n",
       "      <td>0</td>\n",
       "      <td>0</td>\n",
       "      <td>0</td>\n",
       "      <td>2</td>\n",
       "      <td>2008</td>\n",
       "      <td>8</td>\n",
       "      <td>4</td>\n",
       "      <td>12.247694</td>\n",
       "    </tr>\n",
       "    <tr>\n",
       "      <th>1</th>\n",
       "      <td>1</td>\n",
       "      <td>2</td>\n",
       "      <td>20</td>\n",
       "      <td>3</td>\n",
       "      <td>9600</td>\n",
       "      <td>1</td>\n",
       "      <td>3</td>\n",
       "      <td>3</td>\n",
       "      <td>0</td>\n",
       "      <td>2</td>\n",
       "      <td>...</td>\n",
       "      <td>0</td>\n",
       "      <td>0</td>\n",
       "      <td>0</td>\n",
       "      <td>0</td>\n",
       "      <td>0</td>\n",
       "      <td>5</td>\n",
       "      <td>2007</td>\n",
       "      <td>8</td>\n",
       "      <td>4</td>\n",
       "      <td>12.109011</td>\n",
       "    </tr>\n",
       "    <tr>\n",
       "      <th>2</th>\n",
       "      <td>2</td>\n",
       "      <td>3</td>\n",
       "      <td>60</td>\n",
       "      <td>3</td>\n",
       "      <td>11250</td>\n",
       "      <td>1</td>\n",
       "      <td>0</td>\n",
       "      <td>3</td>\n",
       "      <td>0</td>\n",
       "      <td>4</td>\n",
       "      <td>...</td>\n",
       "      <td>0</td>\n",
       "      <td>0</td>\n",
       "      <td>0</td>\n",
       "      <td>0</td>\n",
       "      <td>0</td>\n",
       "      <td>9</td>\n",
       "      <td>2008</td>\n",
       "      <td>8</td>\n",
       "      <td>4</td>\n",
       "      <td>12.317167</td>\n",
       "    </tr>\n",
       "    <tr>\n",
       "      <th>3</th>\n",
       "      <td>3</td>\n",
       "      <td>4</td>\n",
       "      <td>70</td>\n",
       "      <td>3</td>\n",
       "      <td>9550</td>\n",
       "      <td>1</td>\n",
       "      <td>0</td>\n",
       "      <td>3</td>\n",
       "      <td>0</td>\n",
       "      <td>0</td>\n",
       "      <td>...</td>\n",
       "      <td>272</td>\n",
       "      <td>0</td>\n",
       "      <td>0</td>\n",
       "      <td>0</td>\n",
       "      <td>0</td>\n",
       "      <td>2</td>\n",
       "      <td>2006</td>\n",
       "      <td>8</td>\n",
       "      <td>0</td>\n",
       "      <td>11.849398</td>\n",
       "    </tr>\n",
       "    <tr>\n",
       "      <th>4</th>\n",
       "      <td>4</td>\n",
       "      <td>5</td>\n",
       "      <td>60</td>\n",
       "      <td>3</td>\n",
       "      <td>14260</td>\n",
       "      <td>1</td>\n",
       "      <td>0</td>\n",
       "      <td>3</td>\n",
       "      <td>0</td>\n",
       "      <td>2</td>\n",
       "      <td>...</td>\n",
       "      <td>0</td>\n",
       "      <td>0</td>\n",
       "      <td>0</td>\n",
       "      <td>0</td>\n",
       "      <td>0</td>\n",
       "      <td>12</td>\n",
       "      <td>2008</td>\n",
       "      <td>8</td>\n",
       "      <td>4</td>\n",
       "      <td>12.429216</td>\n",
       "    </tr>\n",
       "  </tbody>\n",
       "</table>\n",
       "<p>5 rows × 72 columns</p>\n",
       "</div>"
      ],
      "text/plain": [
       "   Unnamed: 0  Id  MSSubClass  MSZoning  LotArea  Street  LotShape  \\\n",
       "0           0   1          60         3     8450       1         3   \n",
       "1           1   2          20         3     9600       1         3   \n",
       "2           2   3          60         3    11250       1         0   \n",
       "3           3   4          70         3     9550       1         0   \n",
       "4           4   5          60         3    14260       1         0   \n",
       "\n",
       "   LandContour  Utilities  LotConfig  ...  EnclosedPorch  3SsnPorch  \\\n",
       "0            3          0          4  ...              0          0   \n",
       "1            3          0          2  ...              0          0   \n",
       "2            3          0          4  ...              0          0   \n",
       "3            3          0          0  ...            272          0   \n",
       "4            3          0          2  ...              0          0   \n",
       "\n",
       "   ScreenPorch  PoolArea  MiscVal  MoSold  YrSold  SaleType  SaleCondition  \\\n",
       "0            0         0        0       2    2008         8              4   \n",
       "1            0         0        0       5    2007         8              4   \n",
       "2            0         0        0       9    2008         8              4   \n",
       "3            0         0        0       2    2006         8              0   \n",
       "4            0         0        0      12    2008         8              4   \n",
       "\n",
       "   SalePrice  \n",
       "0  12.247694  \n",
       "1  12.109011  \n",
       "2  12.317167  \n",
       "3  11.849398  \n",
       "4  12.429216  \n",
       "\n",
       "[5 rows x 72 columns]"
      ]
     },
     "execution_count": 3,
     "metadata": {},
     "output_type": "execute_result"
    }
   ],
   "source": [
    "#Now let's take a look at what our dataset looks like\n",
    "train_dataset.head()"
   ]
  },
  {
   "cell_type": "code",
   "execution_count": 4,
   "id": "060f678d",
   "metadata": {},
   "outputs": [],
   "source": [
    "#now I drop the unwanted column which includes Unnamed:0 and Id\n",
    "train_dataset = train_dataset.drop(['Unnamed: 0', 'Id'], axis=1)\n",
    "test_dataset = test_dataset.drop(['Unnamed: 0', 'Id'], axis=1)"
   ]
  },
  {
   "cell_type": "code",
   "execution_count": 5,
   "id": "b8288b4f",
   "metadata": {},
   "outputs": [],
   "source": [
    "# now seperate the features (X) from the Target (Y) for both train and test dataset\n",
    "train_dataset_value = train_dataset.values\n",
    "target = train_dataset_value[:,-1].reshape(train_dataset_value.shape[0],1)\n",
    "features = train_dataset_value[:, :-1]"
   ]
  },
  {
   "cell_type": "code",
   "execution_count": 6,
   "id": "ad166840",
   "metadata": {},
   "outputs": [],
   "source": [
    "test_dataset_value = test_dataset.values\n",
    "test_target = test_dataset_value[:,-1].reshape(test_dataset_value.shape[0],1)\n",
    "test_features = test_dataset_value[:, :-1]"
   ]
  },
  {
   "cell_type": "code",
   "execution_count": 7,
   "id": "e93b1c92",
   "metadata": {},
   "outputs": [
    {
     "name": "stdout",
     "output_type": "stream",
     "text": [
      "The shape of our` Y dataset is  (1200, 1)\n",
      "The shape of our` X dataset is  (1200, 69)\n",
      "The shape of our` Y-test dataset is  (258, 1)\n",
      "The shape of our` X-test dataset is  (258, 69)\n"
     ]
    }
   ],
   "source": [
    "#now lets see what our dataset looks like\n",
    "print(\"The shape of our` Y dataset is \",target.shape)\n",
    "print(\"The shape of our` X dataset is \",features.shape)\n",
    "print(\"The shape of our` Y-test dataset is \",test_target.shape)\n",
    "print(\"The shape of our` X-test dataset is \",test_features.shape)"
   ]
  },
  {
   "cell_type": "markdown",
   "id": "3a616259",
   "metadata": {},
   "source": [
    "## MULTIPLE LINEAR REGRESSION"
   ]
  },
  {
   "cell_type": "markdown",
   "id": "2481acae",
   "metadata": {},
   "source": [
    "when doing a regression we have to consider a few factors which include:\n",
    "\n",
    "**Straight Line**\n",
    "this involves using the matrix multiplication which is given as __predicted_traget = matrix_mul(features, theta)__\n",
    "\n",
    "\n",
    "*Cost Function\n",
    "\n",
    "*Gradient Descent\n",
    "\n",
    "So let's make our linear regression model in python.\n",
    "\n"
   ]
  },
  {
   "cell_type": "code",
   "execution_count": 9,
   "id": "227d52ee",
   "metadata": {},
   "outputs": [],
   "source": [
    "#To do a proper matrix multiplication of features and theta, we will need to add a column of 1s before all the features\n",
    "#reason? theta0 will need to be multiplied on all levels\n",
    "\n",
    "features = np.vstack((np.ones((features.shape[0], )), features.T)).T\n",
    "test_features = np.vstack((np.ones((test_features.shape[0], )), test_features.T)).T"
   ]
  },
  {
   "cell_type": "markdown",
   "id": "d31457d6",
   "metadata": {},
   "source": [
    "1. I'm taking four parameters features, target, Learning_Rate (which is alpha) and Iterations. Iterations specifies how many times we want to run the loop.\n",
    "2. Define m as the size of the dataset (which is currently 1200).\n",
    "3. And theta will be the vector of zeros. so it will be a matrix of size (n,1) where n is the number of features. so basically of the size (69, 1)\n",
    "4. We are running the loop for iteration time. And in every iteration we will compute our above 4 equations.\n",
    "5. We will also keep track of our cost at every iteration, by maintaining a cost_list.\n",
    "6. And finally, return the theta parameter (which will be trained) and cost_list."
   ]
  },
  {
   "cell_type": "code",
   "execution_count": 11,
   "id": "f6bc27df",
   "metadata": {},
   "outputs": [],
   "source": [
    "def model(features, target, Learning_Rate, Iterations):\n",
    "    m = target.size\n",
    "    theta = np.zeros((features.shape[1], 1))\n",
    "    cost_list = []\n",
    "    for i in range(Iterations):\n",
    "        \n",
    "        predicted_traget = np.dot(features, theta)\n",
    "        \n",
    "        Cost_Function = (1/(2*m)) * np.sum(np.square(predicted_traget - target))\n",
    "        d_theta = (1/m) * np.dot(features.T, predicted_traget-target)\n",
    "        theta = theta - Learning_Rate * d_theta\n",
    "        \n",
    "        cost_list.append(Cost_Function)\n",
    "        # to print the cost function for 10 times\n",
    "        \n",
    "        if(i%(Iterations/10) == 0):\n",
    "            print(\"Cost is :\", Cost_Function)\n",
    "    return theta, cost_list"
   ]
  },
  {
   "cell_type": "code",
   "execution_count": 13,
   "id": "f856cde0",
   "metadata": {},
   "outputs": [
    {
     "name": "stdout",
     "output_type": "stream",
     "text": [
      "Cost is : 72.37539364066856\n",
      "Cost is : 0.02790416573121623\n",
      "Cost is : 0.017251065480335014\n",
      "Cost is : 0.016355273044044497\n",
      "Cost is : 0.016158836450446166\n",
      "Cost is : 0.016040958865448277\n",
      "Cost is : 0.015946827691724886\n",
      "Cost is : 0.01586789668503626\n",
      "Cost is : 0.01580056838171381\n",
      "Cost is : 0.01574235567203411\n"
     ]
    }
   ],
   "source": [
    "#now let's call our model\n",
    "iterat = 10000\n",
    "learn_rate = 0.000000005\n",
    "theta, cost_list = model(features, target, Learning_Rate= learn_rate, Iterations=iterat)"
   ]
  },
  {
   "cell_type": "markdown",
   "id": "077b17ae",
   "metadata": {},
   "source": [
    "We can see our cost decreasing with every iteration. We can also plot a graph of cost vs iteration"
   ]
  },
  {
   "cell_type": "code",
   "execution_count": 14,
   "id": "a0ca6487",
   "metadata": {},
   "outputs": [
    {
     "data": {
      "image/png": "[encoded data removed]",
      "text/plain": [
       "<Figure size 432x288 with 1 Axes>"
      ]
     },
     "metadata": {
      "needs_background": "light"
     },
     "output_type": "display_data"
    }
   ],
   "source": [
    "rang = np.arange(0, iterat)\n",
    "plt.plot(rang, cost_list)\n",
    "plt.show()"
   ]
  },
  {
   "cell_type": "markdown",
   "id": "8e35e526",
   "metadata": {},
   "source": [
    "## Testing the Model"
   ]
  },
  {
   "cell_type": "markdown",
   "id": "092d59c2",
   "metadata": {},
   "source": [
    "We will test the accuracy of our model on a test dataset. And for testing accuracy, I'm going to calculate the error, and subtract the 1 by error, to get the accuracy. Below is the equation for the error :\n",
    "\n",
    "error = (1/m) * ∑|y_pred−Y|"
   ]
  },
  {
   "cell_type": "code",
   "execution_count": 15,
   "id": "c6f13eba",
   "metadata": {},
   "outputs": [],
   "source": [
    "predicted_target = np.dot(test_features, theta)\n",
    "error = (1/test_features.shape[0]) * np.sum(np.abs(predicted_target - test_target))"
   ]
  },
  {
   "cell_type": "code",
   "execution_count": 16,
   "id": "b188a078",
   "metadata": {},
   "outputs": [
    {
     "name": "stdout",
     "output_type": "stream",
     "text": [
      "Test error is : 12.95765899497286 %\n",
      "Test Accuracy is : 87.04234100502714 %\n"
     ]
    }
   ],
   "source": [
    "print(\"Test error is :\", error*100, \"%\")\n",
    "print(\"Test Accuracy is :\", (1- error)*100, \"%\")"
   ]
  }
 ],
 "metadata": {
  "kernelspec": {
   "display_name": "Python 3",
   "language": "python",
   "name": "python3"
  },
  "language_info": {
   "codemirror_mode": {
    "name": "ipython",
    "version": 3
   },
   "file_extension": ".py",
   "mimetype": "text/x-python",
   "name": "python",
   "nbconvert_exporter": "python",
   "pygments_lexer": "ipython3",
   "version": "3.8.8"
  }
 },
 "nbformat": 4,
 "nbformat_minor": 5
}
